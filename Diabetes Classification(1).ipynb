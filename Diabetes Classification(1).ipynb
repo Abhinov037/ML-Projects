{
 "cells": [
  {
   "cell_type": "code",
   "execution_count": 1,
   "id": "eb17c4da-982a-471d-9d38-ba421e4c316d",
   "metadata": {},
   "outputs": [],
   "source": [
    "import numpy as np\n",
    "import pandas as pd\n",
    "import matplotlib.pyplot as plt\n",
    "from sklearn.model_selection import train_test_split\n",
    "from sklearn.preprocessing import StandardScaler\n",
    "from sklearn.neighbors import KNeighborsClassifier\n",
    "from sklearn.metrics import accuracy_score, classification_report\n"
   ]
  },
  {
   "cell_type": "code",
   "execution_count": 2,
   "id": "6835bf1f-7c99-4e0e-bad6-483c7473cf41",
   "metadata": {},
   "outputs": [],
   "source": [
    "dfx=pd.read_csv(r\"C:\\Users\\abhin\\Downloads\\Training Data(2)\\Diabetes_XTrain.csv\")\n",
    "dfy=pd.read_csv(r\"C:\\Users\\abhin\\Downloads\\Training Data(2)\\Diabetes_YTrain.csv\")\n",
    "dfy = dfy.values.ravel()"
   ]
  },
  {
   "cell_type": "code",
   "execution_count": 3,
   "id": "471f441f-f9be-47b6-b34a-820f54491e0b",
   "metadata": {},
   "outputs": [
    {
     "data": {
      "image/png": "[encoded data removed]",
      "text/plain": [
       "<Figure size 800x600 with 1 Axes>"
      ]
     },
     "metadata": {},
     "output_type": "display_data"
    }
   ],
   "source": [
    "\n",
    "\n",
    "class_counts = np.bincount(dfy)\n",
    "\n",
    "# Plot a bar graph\n",
    "plt.figure(figsize=(8, 6))\n",
    "plt.bar([0, 1], class_counts, color=['blue', 'orange'])\n",
    "plt.xlabel('Outcome')\n",
    "plt.ylabel('Number of Examples')\n",
    "plt.title('Distribution of Classes in the Diabetes Dataset')\n",
    "plt.xticks([0, 1], ['Non-Diabetic', 'Diabetic'])\n",
    "plt.show()"
   ]
  },
  {
   "cell_type": "code",
   "execution_count": 12,
   "id": "bacb82b0-119b-4ddc-9ea5-88133f87d164",
   "metadata": {},
   "outputs": [
    {
     "name": "stdout",
     "output_type": "stream",
     "text": [
      "Cross-validated Accuracy: 0.69\n",
      "Cross-validated Precision: 0.71\n",
      "Cross-validated Recall: 0.60\n",
      "Cross-validated F1-score: 0.65\n"
     ]
    }
   ],
   "source": [
    "from sklearn.model_selection import cross_val_score\n",
    "from sklearn.metrics import accuracy_score, precision_score, recall_score, f1_score\n",
    "\n",
    "# Example of evaluating KNN with cross-validation\n",
    "knn = KNeighborsClassifier(n_neighbors=5)\n",
    "scores = cross_val_score(knn, X_train, y_train, cv=5)\n",
    "\n",
    "print(f'Cross-validated Accuracy: {scores.mean():.2f}')\n",
    "print(f'Cross-validated Precision: {precision_score(y_test, y_pred):.2f}')\n",
    "print(f'Cross-validated Recall: {recall_score(y_test, y_pred):.2f}')\n",
    "print(f'Cross-validated F1-score: {f1_score(y_test, y_pred):.2f}')\n"
   ]
  },
  {
   "cell_type": "code",
   "execution_count": 5,
   "id": "db907f08-a125-4133-9bdd-83f459363bfa",
   "metadata": {},
   "outputs": [
    {
     "name": "stdout",
     "output_type": "stream",
     "text": [
      "Predictions saved successfully.\n"
     ]
    }
   ],
   "source": [
    "import pandas as pd\n",
    "import numpy as np\n",
    "from sklearn.preprocessing import StandardScaler\n",
    "\n",
    "# Load the test data\n",
    "file_path_test = r\"C:\\Users\\abhin\\Downloads\\Diabetes_Xtest.csv\"\n",
    "test_df = pd.read_csv(file_path_test)\n",
    "\n",
    "# Preprocess the test data similarly as done for training data\n",
    "X_submission = scaler.transform(test_df.values)\n",
    "\n",
    "# Predict on the test set\n",
    "y_submission = knn.predict(X_submission)\n",
    "\n",
    "# Prepare submission DataFrame\n",
    "submission_df = pd.DataFrame({'Outcome': y_submission})\n",
    "\n",
    "# Save submission to CSV\n",
    "submission_df.to_csv('diabetes_predictions.csv', index=False)\n",
    "\n",
    "print(\"Predictions saved successfully.\")\n"
   ]
  },
  {
   "cell_type": "code",
   "execution_count": 10,
   "id": "49cd9911-6616-4cd0-83e7-ec68e7fd80dd",
   "metadata": {},
   "outputs": [
    {
     "name": "stdout",
     "output_type": "stream",
     "text": [
      "Predictions saved successfully to diabetes_predictions.csv\n"
     ]
    }
   ],
   "source": [
    "import pandas as pd\n",
    "from sklearn.preprocessing import StandardScaler\n",
    "\n",
    "# Load sample submission format to match columns\n",
    "sample_submission = pd.read_csv(r'C:\\Users\\abhin\\Downloads\\Test Cases\\sample_submission.csv')\n",
    "\n",
    "# Assuming scaler is already defined and test data is loaded in test_df\n",
    "# Load the test data\n",
    "file_path_test = r\"C:\\Users\\abhin\\Downloads\\Test Cases\\Diabetes_Xtest.csv\"\n",
    "test_df = pd.read_csv(file_path_test)\n",
    "\n",
    "# Preprocess the test data similarly as done for training data\n",
    "X_submission = scaler.transform(test_df.values)\n",
    "\n",
    "# Predict on the test set\n",
    "y_submission = knn.predict(X_submission)\n",
    "\n",
    "# Prepare submission DataFrame\n",
    "submission_df = pd.DataFrame({'Outcome': y_submission})\n",
    "\n",
    "# Ensure the submission DataFrame has the same structure as sample_submission\n",
    "assert submission_df.shape == sample_submission.shape, \"Shape mismatch between submission and sample_submission\"\n",
    "\n",
    "# Save submission to CSV without row indices\n",
    "submission_file_path = 'diabetes_predictions.csv'\n",
    "submission_df.to_csv(submission_file_path, index=False)\n",
    "\n",
    "print(f'Predictions saved successfully to {submission_file_path}')\n",
    "\n",
    "\n",
    "\n"
   ]
  },
  {
   "cell_type": "code",
   "execution_count": 11,
   "id": "4c02ce69-cf75-4e71-9c76-c6ae5e0e64da",
   "metadata": {},
   "outputs": [
    {
     "name": "stdout",
     "output_type": "stream",
     "text": [
      "The predictions file is saved at: C:\\Users\\abhin\\diabetes_predictions.csv\n"
     ]
    }
   ],
   "source": [
    "import os\n",
    "\n",
    "# Specify the file name\n",
    "submission_file_name = 'diabetes_predictions.csv'\n",
    "\n",
    "# Check the current working directory\n",
    "current_directory = os.getcwd()\n",
    "\n",
    "# Construct the full file path\n",
    "submission_file_path = os.path.join(current_directory, submission_file_name)\n",
    "\n",
    "# Print the file path\n",
    "print(f'The predictions file is saved at: {submission_file_path}')\n"
   ]
  }
 ],
 "metadata": {
  "kernelspec": {
   "display_name": "Python 3 (ipykernel)",
   "language": "python",
   "name": "python3"
  },
  "language_info": {
   "codemirror_mode": {
    "name": "ipython",
    "version": 3
   },
   "file_extension": ".py",
   "mimetype": "text/x-python",
   "name": "python",
   "nbconvert_exporter": "python",
   "pygments_lexer": "ipython3",
   "version": "3.12.4"
  }
 },
 "nbformat": 4,
 "nbformat_minor": 5
}
