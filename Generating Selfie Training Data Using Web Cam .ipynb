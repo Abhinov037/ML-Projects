{
 "cells": [
  {
   "cell_type": "code",
   "execution_count": 1,
   "id": "ea317415-e3f0-4dcb-be98-90ce0ceb7062",
   "metadata": {},
   "outputs": [],
   "source": [
    "# 1-Read and show video stream , capture images\n",
    "#2- Detect Faces and Show bounding box (haarcascade)\n",
    "#3-Flatten the largest face image(gray scale) and save in a numpy array \n",
    "#4-Repeat the above for multiple people to generate training data\n"
   ]
  },
  {
   "cell_type": "code",
   "execution_count": 2,
   "id": "30e97910-fa3b-4954-93fe-78c533be384a",
   "metadata": {},
   "outputs": [],
   "source": [
    "import cv2\n",
    "import numpy as np \n",
    "import os"
   ]
  },
  {
   "cell_type": "code",
   "execution_count": 3,
   "id": "dd5a7904-27d7-46d5-9a32-691055dd87bd",
   "metadata": {},
   "outputs": [],
   "source": [
    "#inlit camera \n",
    "cap=cv2.VideoCapture(0)"
   ]
  },
  {
   "cell_type": "code",
   "execution_count": 4,
   "id": "1dccb496-b249-4bc6-87fa-8fde691a2c90",
   "metadata": {},
   "outputs": [
    {
     "name": "stdout",
     "output_type": "stream",
     "text": [
      "1\n",
      "2\n",
      "3\n",
      "4\n",
      "5\n",
      "6\n",
      "7\n",
      "8\n",
      "9\n",
      "10\n",
      "11\n",
      "12\n",
      "13\n",
      "14\n",
      "15\n",
      "16\n",
      "17\n",
      "18\n",
      "19\n",
      "20\n",
      "21\n",
      "(21, 30000)\n",
      "Data successfully saved at ./face_data.npy\n"
     ]
    }
   ],
   "source": [
    "\n",
    "if not cap.isOpened():\n",
    "    print(\"Error: Could not open video capture.\")\n",
    "    exit()\n",
    "\n",
    "# Load the pre-trained Haar Cascade model for face detection\n",
    "face_cascade = cv2.CascadeClassifier(cv2.data.haarcascades + 'haarcascade_frontalface_default.xml')\n",
    "\n",
    "# Initialize variables\n",
    "face_data = []\n",
    "skip = 0\n",
    "dataset_path = \"./\"  # Define the dataset path\n",
    "file_name = \"face_data\"  # Define the file name\n",
    "face_size = (100, 100)  # Desired face size (width, height)\n",
    "\n",
    "# Ensure the dataset path exists\n",
    "os.makedirs(dataset_path, exist_ok=True)\n",
    "\n",
    "while True:\n",
    "    ret, frame = cap.read()\n",
    "    if not ret:\n",
    "        print(\"Failed to capture image\")\n",
    "        continue\n",
    "\n",
    "    # Convert the frame to grayscale\n",
    "    gray_frame = cv2.cvtColor(frame, cv2.COLOR_BGR2GRAY)\n",
    "\n",
    "    # Detect faces\n",
    "    faces = face_cascade.detectMultiScale(gray_frame, 1.3, 5)\n",
    "    faces = sorted(faces, key=lambda f: f[2] * f[3])\n",
    "    \n",
    "    if len(faces) > 0:  # Select the largest face\n",
    "        face = faces[-1]\n",
    "        x, y, w, h = face\n",
    "        cv2.rectangle(frame, (x, y), (x + w, y + h), (0, 255, 255), 2)\n",
    "\n",
    "        offset = 10\n",
    "        # Ensure the face selection is within bounds\n",
    "        y_start = max(0, y - offset)\n",
    "        y_end = min(frame.shape[0], y + h + offset)\n",
    "        x_start = max(0, x - offset)\n",
    "        x_end = min(frame.shape[1], x + w + offset)\n",
    "\n",
    "        face_selection = frame[y_start:y_end, x_start:x_end]\n",
    "        face_selection = cv2.resize(face_selection, face_size)  # Resize to a consistent shape\n",
    "\n",
    "        if skip % 10 == 0:\n",
    "            face_data.append(face_selection)\n",
    "            print(len(face_data))\n",
    "        \n",
    "        cv2.imshow(\"Face Selection\", face_selection)\n",
    "\n",
    "    # Display the frame with detected faces\n",
    "    cv2.imshow(\"Video Frame\", frame)\n",
    "\n",
    "    # Wait for user input - 'q' to stop the loop\n",
    "    key_pressed = cv2.waitKey(1) & 0xFF\n",
    "    if key_pressed == ord('q'):\n",
    "        break            \n",
    "    skip += 1\n",
    "\n",
    "# Convert our face list array into a numpy array\n",
    "face_data = np.asarray(face_data)\n",
    "face_data = face_data.reshape((face_data.shape[0], -1))\n",
    "print(face_data.shape)\n",
    "\n",
    "# Save the face data to a numpy file\n",
    "np.save(os.path.join(dataset_path, file_name + '.npy'), face_data)\n",
    "print(\"Data successfully saved at \" + os.path.join(dataset_path, file_name + '.npy'))\n",
    "\n",
    "cap.release()\n",
    "cv2.destroyAllWindows()\n"
   ]
  }
 ],
 "metadata": {
  "kernelspec": {
   "display_name": "Python 3 (ipykernel)",
   "language": "python",
   "name": "python3"
  },
  "language_info": {
   "codemirror_mode": {
    "name": "ipython",
    "version": 3
   },
   "file_extension": ".py",
   "mimetype": "text/x-python",
   "name": "python",
   "nbconvert_exporter": "python",
   "pygments_lexer": "ipython3",
   "version": "3.12.4"
  }
 },
 "nbformat": 4,
 "nbformat_minor": 5
}
